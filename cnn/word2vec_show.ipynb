{
 "cells": [
  {
   "cell_type": "code",
   "execution_count": 1,
   "metadata": {
    "collapsed": true
   },
   "outputs": [],
   "source": [
    "import numpy as np\n",
    "import os\n",
    "from random import shuffle\n",
    "import re"
   ]
  },
  {
   "cell_type": "code",
   "execution_count": 2,
   "metadata": {},
   "outputs": [
    {
     "data": {
      "text/html": [
       "\n",
       "    <div class=\"bk-root\">\n",
       "        <a href=\"http://bokeh.pydata.org\" target=\"_blank\" class=\"bk-logo bk-logo-small bk-logo-notebook\"></a>\n",
       "        <span id=\"097c179f-7775-494d-a898-bf9baaac7a15\">Loading BokehJS ...</span>\n",
       "    </div>"
      ]
     },
     "metadata": {},
     "output_type": "display_data"
    },
    {
     "data": {
      "application/javascript": [
       "\n",
       "(function(global) {\n",
       "  function now() {\n",
       "    return new Date();\n",
       "  }\n",
       "\n",
       "  var force = true;\n",
       "\n",
       "  if (typeof (window._bokeh_onload_callbacks) === \"undefined\" || force === true) {\n",
       "    window._bokeh_onload_callbacks = [];\n",
       "    window._bokeh_is_loading = undefined;\n",
       "  }\n",
       "\n",
       "\n",
       "  \n",
       "  if (typeof (window._bokeh_timeout) === \"undefined\" || force === true) {\n",
       "    window._bokeh_timeout = Date.now() + 5000;\n",
       "    window._bokeh_failed_load = false;\n",
       "  }\n",
       "\n",
       "  var NB_LOAD_WARNING = {'data': {'text/html':\n",
       "     \"<div style='background-color: #fdd'>\\n\"+\n",
       "     \"<p>\\n\"+\n",
       "     \"BokehJS does not appear to have successfully loaded. If loading BokehJS from CDN, this \\n\"+\n",
       "     \"may be due to a slow or bad network connection. Possible fixes:\\n\"+\n",
       "     \"</p>\\n\"+\n",
       "     \"<ul>\\n\"+\n",
       "     \"<li>re-rerun `output_notebook()` to attempt to load from CDN again, or</li>\\n\"+\n",
       "     \"<li>use INLINE resources instead, as so:</li>\\n\"+\n",
       "     \"</ul>\\n\"+\n",
       "     \"<code>\\n\"+\n",
       "     \"from bokeh.resources import INLINE\\n\"+\n",
       "     \"output_notebook(resources=INLINE)\\n\"+\n",
       "     \"</code>\\n\"+\n",
       "     \"</div>\"}};\n",
       "\n",
       "  function display_loaded() {\n",
       "    if (window.Bokeh !== undefined) {\n",
       "      var el = document.getElementById(\"097c179f-7775-494d-a898-bf9baaac7a15\");\n",
       "      el.textContent = \"BokehJS \" + Bokeh.version + \" successfully loaded.\";\n",
       "    } else if (Date.now() < window._bokeh_timeout) {\n",
       "      setTimeout(display_loaded, 100)\n",
       "    }\n",
       "  }\n",
       "\n",
       "  function run_callbacks() {\n",
       "    window._bokeh_onload_callbacks.forEach(function(callback) { callback() });\n",
       "    delete window._bokeh_onload_callbacks\n",
       "    console.info(\"Bokeh: all callbacks have finished\");\n",
       "  }\n",
       "\n",
       "  function load_libs(js_urls, callback) {\n",
       "    window._bokeh_onload_callbacks.push(callback);\n",
       "    if (window._bokeh_is_loading > 0) {\n",
       "      console.log(\"Bokeh: BokehJS is being loaded, scheduling callback at\", now());\n",
       "      return null;\n",
       "    }\n",
       "    if (js_urls == null || js_urls.length === 0) {\n",
       "      run_callbacks();\n",
       "      return null;\n",
       "    }\n",
       "    console.log(\"Bokeh: BokehJS not loaded, scheduling load and callback at\", now());\n",
       "    window._bokeh_is_loading = js_urls.length;\n",
       "    for (var i = 0; i < js_urls.length; i++) {\n",
       "      var url = js_urls[i];\n",
       "      var s = document.createElement('script');\n",
       "      s.src = url;\n",
       "      s.async = false;\n",
       "      s.onreadystatechange = s.onload = function() {\n",
       "        window._bokeh_is_loading--;\n",
       "        if (window._bokeh_is_loading === 0) {\n",
       "          console.log(\"Bokeh: all BokehJS libraries loaded\");\n",
       "          run_callbacks()\n",
       "        }\n",
       "      };\n",
       "      s.onerror = function() {\n",
       "        console.warn(\"failed to load library \" + url);\n",
       "      };\n",
       "      console.log(\"Bokeh: injecting script tag for BokehJS library: \", url);\n",
       "      document.getElementsByTagName(\"head\")[0].appendChild(s);\n",
       "    }\n",
       "  };var element = document.getElementById(\"097c179f-7775-494d-a898-bf9baaac7a15\");\n",
       "  if (element == null) {\n",
       "    console.log(\"Bokeh: ERROR: autoload.js configured with elementid '097c179f-7775-494d-a898-bf9baaac7a15' but no matching script tag was found. \")\n",
       "    return false;\n",
       "  }\n",
       "\n",
       "  var js_urls = [\"https://cdn.pydata.org/bokeh/release/bokeh-0.12.5.min.js\", \"https://cdn.pydata.org/bokeh/release/bokeh-widgets-0.12.5.min.js\"];\n",
       "\n",
       "  var inline_js = [\n",
       "    function(Bokeh) {\n",
       "      Bokeh.set_log_level(\"info\");\n",
       "    },\n",
       "    \n",
       "    function(Bokeh) {\n",
       "      \n",
       "    },\n",
       "    \n",
       "    function(Bokeh) {\n",
       "      \n",
       "      document.getElementById(\"097c179f-7775-494d-a898-bf9baaac7a15\").textContent = \"BokehJS is loading...\";\n",
       "    },\n",
       "    function(Bokeh) {\n",
       "      console.log(\"Bokeh: injecting CSS: https://cdn.pydata.org/bokeh/release/bokeh-0.12.5.min.css\");\n",
       "      Bokeh.embed.inject_css(\"https://cdn.pydata.org/bokeh/release/bokeh-0.12.5.min.css\");\n",
       "      console.log(\"Bokeh: injecting CSS: https://cdn.pydata.org/bokeh/release/bokeh-widgets-0.12.5.min.css\");\n",
       "      Bokeh.embed.inject_css(\"https://cdn.pydata.org/bokeh/release/bokeh-widgets-0.12.5.min.css\");\n",
       "    }\n",
       "  ];\n",
       "\n",
       "  function run_inline_js() {\n",
       "    \n",
       "    if ((window.Bokeh !== undefined) || (force === true)) {\n",
       "      for (var i = 0; i < inline_js.length; i++) {\n",
       "        inline_js[i](window.Bokeh);\n",
       "      }if (force === true) {\n",
       "        display_loaded();\n",
       "      }} else if (Date.now() < window._bokeh_timeout) {\n",
       "      setTimeout(run_inline_js, 100);\n",
       "    } else if (!window._bokeh_failed_load) {\n",
       "      console.log(\"Bokeh: BokehJS failed to load within specified timeout.\");\n",
       "      window._bokeh_failed_load = true;\n",
       "    } else if (force !== true) {\n",
       "      var cell = $(document.getElementById(\"097c179f-7775-494d-a898-bf9baaac7a15\")).parents('.cell').data().cell;\n",
       "      cell.output_area.append_execute_result(NB_LOAD_WARNING)\n",
       "    }\n",
       "\n",
       "  }\n",
       "\n",
       "  if (window._bokeh_is_loading === 0) {\n",
       "    console.log(\"Bokeh: BokehJS loaded, going straight to plotting\");\n",
       "    run_inline_js();\n",
       "  } else {\n",
       "    load_libs(js_urls, function() {\n",
       "      console.log(\"Bokeh: BokehJS plotting callback run at\", now());\n",
       "      run_inline_js();\n",
       "    });\n",
       "  }\n",
       "}(this));"
      ]
     },
     "metadata": {},
     "output_type": "display_data"
    }
   ],
   "source": [
    "from bokeh.models import ColumnDataSource, LabelSet\n",
    "from bokeh.plotting import figure, show, output_file\n",
    "from bokeh.io import output_notebook\n",
    "output_notebook()"
   ]
  },
  {
   "cell_type": "code",
   "execution_count": 3,
   "metadata": {
    "collapsed": true
   },
   "outputs": [],
   "source": [
    "import numpy as np\n",
    "import pandas as pd\n",
    "import re\n",
    "from sklearn.preprocessing import LabelBinarizer\n",
    "from tensorflow.contrib import learn\n",
    "import tensorflow as tf"
   ]
  },
  {
   "cell_type": "code",
   "execution_count": 4,
   "metadata": {
    "collapsed": true
   },
   "outputs": [],
   "source": [
    "def load_files(train_files, dev_files, class_file):\n",
    "\n",
    "    data_list = list()\n",
    "    for file in train_files:\n",
    "        data = pd.read_csv(file, encoding='latin-1')\n",
    "        data_list.append(data)\n",
    "    data = pd.DataFrame(np.concatenate(data_list))\n",
    "    x_train = data[3]\n",
    "    x_token = []\n",
    "    for line in x_train:\n",
    "        x_token.append(line.strip().split())\n",
    "    return x_token"
   ]
  },
  {
   "cell_type": "code",
   "execution_count": 6,
   "metadata": {
    "collapsed": true
   },
   "outputs": [],
   "source": [
    "train_data = \"eclipse/\"\n",
    "train_index = 11\n",
    "data_dir = \"../../data/data_by_ocean/\" + train_data\n",
    "models = \"TextHMCNN\"\n",
    "data_results = data_dir + \"results/\" + models + '/'"
   ]
  },
  {
   "cell_type": "code",
   "execution_count": 7,
   "metadata": {
    "collapsed": true
   },
   "outputs": [],
   "source": [
    "class_file = data_results + \"class_\" + str(train_index) + \".csv\"\n",
    "train_files = [data_dir + str(i) + '.csv' for i in range(train_index)]\n",
    "test_files = [data_dir +\n",
    "              str(i) + '.csv' for i in range(train_index, train_index + 1)]\n",
    "x_train = load_files(\n",
    "    train_files, test_files, class_file)"
   ]
  },
  {
   "cell_type": "code",
   "execution_count": 10,
   "metadata": {
    "collapsed": true
   },
   "outputs": [],
   "source": [
    "vocabulary = []\n",
    "for sentence in x_train:\n",
    "    vocabulary.extend(sentence)\n",
    "import collections\n",
    "word_counts = collections.Counter(vocabulary).most_common(1000)"
   ]
  },
  {
   "cell_type": "code",
   "execution_count": 8,
   "metadata": {},
   "outputs": [
    {
     "name": "stderr",
     "output_type": "stream",
     "text": [
      "D:\\ProgramData\\Anaconda3\\lib\\site-packages\\gensim\\utils.py:855: UserWarning: detected Windows; aliasing chunkize to chunkize_serial\n",
      "  warnings.warn(\"detected Windows; aliasing chunkize to chunkize_serial\")\n"
     ]
    }
   ],
   "source": [
    "from gensim.models import Word2Vec"
   ]
  },
  {
   "cell_type": "code",
   "execution_count": 14,
   "metadata": {
    "collapsed": true
   },
   "outputs": [],
   "source": [
    "# trainning word\n",
    "model_ted = Word2Vec(x_train, size=300, min_count=10)"
   ]
  },
  {
   "cell_type": "code",
   "execution_count": 15,
   "metadata": {
    "collapsed": true
   },
   "outputs": [],
   "source": [
    "words_top_ted = [word[0] for word in word_counts]\n",
    "words_top_vec_ted = model_ted[words_top_ted]"
   ]
  },
  {
   "cell_type": "code",
   "execution_count": 16,
   "metadata": {
    "collapsed": true
   },
   "outputs": [],
   "source": [
    "from sklearn.manifold import TSNE\n",
    "tsne = TSNE(n_components=2, random_state=0)\n",
    "words_top_ted_tsne = tsne.fit_transform(words_top_vec_ted)"
   ]
  },
  {
   "cell_type": "code",
   "execution_count": 17,
   "metadata": {
    "scrolled": true
   },
   "outputs": [
    {
     "data": {
      "text/html": [
       "\n",
       "\n",
       "    <div class=\"bk-root\">\n",
       "        <div class=\"bk-plotdiv\" id=\"9051f99c-9d00-48de-a4fd-811e80c5fbed\"></div>\n",
       "    </div>\n",
       "<script type=\"text/javascript\">\n",
       "  \n",
       "  (function(global) {\n",
       "    function now() {\n",
       "      return new Date();\n",
       "    }\n",
       "  \n",
       "    var force = false;\n",
       "  \n",
       "    if (typeof (window._bokeh_onload_callbacks) === \"undefined\" || force === true) {\n",
       "      window._bokeh_onload_callbacks = [];\n",
       "      window._bokeh_is_loading = undefined;\n",
       "    }\n",
       "  \n",
       "  \n",
       "    \n",
       "    if (typeof (window._bokeh_timeout) === \"undefined\" || force === true) {\n",
       "      window._bokeh_timeout = Date.now() + 0;\n",
       "      window._bokeh_failed_load = false;\n",
       "    }\n",
       "  \n",
       "    var NB_LOAD_WARNING = {'data': {'text/html':\n",
       "       \"<div style='background-color: #fdd'>\\n\"+\n",
       "       \"<p>\\n\"+\n",
       "       \"BokehJS does not appear to have successfully loaded. If loading BokehJS from CDN, this \\n\"+\n",
       "       \"may be due to a slow or bad network connection. Possible fixes:\\n\"+\n",
       "       \"</p>\\n\"+\n",
       "       \"<ul>\\n\"+\n",
       "       \"<li>re-rerun `output_notebook()` to attempt to load from CDN again, or</li>\\n\"+\n",
       "       \"<li>use INLINE resources instead, as so:</li>\\n\"+\n",
       "       \"</ul>\\n\"+\n",
       "       \"<code>\\n\"+\n",
       "       \"from bokeh.resources import INLINE\\n\"+\n",
       "       \"output_notebook(resources=INLINE)\\n\"+\n",
       "       \"</code>\\n\"+\n",
       "       \"</div>\"}};\n",
       "  \n",
       "    function display_loaded() {\n",
       "      if (window.Bokeh !== undefined) {\n",
       "        var el = document.getElementById(\"9051f99c-9d00-48de-a4fd-811e80c5fbed\");\n",
       "        el.textContent = \"BokehJS \" + Bokeh.version + \" successfully loaded.\";\n",
       "      } else if (Date.now() < window._bokeh_timeout) {\n",
       "        setTimeout(display_loaded, 100)\n",
       "      }\n",
       "    }\n",
       "  \n",
       "    function run_callbacks() {\n",
       "      window._bokeh_onload_callbacks.forEach(function(callback) { callback() });\n",
       "      delete window._bokeh_onload_callbacks\n",
       "      console.info(\"Bokeh: all callbacks have finished\");\n",
       "    }\n",
       "  \n",
       "    function load_libs(js_urls, callback) {\n",
       "      window._bokeh_onload_callbacks.push(callback);\n",
       "      if (window._bokeh_is_loading > 0) {\n",
       "        console.log(\"Bokeh: BokehJS is being loaded, scheduling callback at\", now());\n",
       "        return null;\n",
       "      }\n",
       "      if (js_urls == null || js_urls.length === 0) {\n",
       "        run_callbacks();\n",
       "        return null;\n",
       "      }\n",
       "      console.log(\"Bokeh: BokehJS not loaded, scheduling load and callback at\", now());\n",
       "      window._bokeh_is_loading = js_urls.length;\n",
       "      for (var i = 0; i < js_urls.length; i++) {\n",
       "        var url = js_urls[i];\n",
       "        var s = document.createElement('script');\n",
       "        s.src = url;\n",
       "        s.async = false;\n",
       "        s.onreadystatechange = s.onload = function() {\n",
       "          window._bokeh_is_loading--;\n",
       "          if (window._bokeh_is_loading === 0) {\n",
       "            console.log(\"Bokeh: all BokehJS libraries loaded\");\n",
       "            run_callbacks()\n",
       "          }\n",
       "        };\n",
       "        s.onerror = function() {\n",
       "          console.warn(\"failed to load library \" + url);\n",
       "        };\n",
       "        console.log(\"Bokeh: injecting script tag for BokehJS library: \", url);\n",
       "        document.getElementsByTagName(\"head\")[0].appendChild(s);\n",
       "      }\n",
       "    };var element = document.getElementById(\"9051f99c-9d00-48de-a4fd-811e80c5fbed\");\n",
       "    if (element == null) {\n",
       "      console.log(\"Bokeh: ERROR: autoload.js configured with elementid '9051f99c-9d00-48de-a4fd-811e80c5fbed' but no matching script tag was found. \")\n",
       "      return false;\n",
       "    }\n",
       "  \n",
       "    var js_urls = [];\n",
       "  \n",
       "    var inline_js = [\n",
       "      function(Bokeh) {\n",
       "        (function() {\n",
       "          var fn = function() {\n",
       "            var docs_json = {\"c7530e25-c9b7-446c-8237-cefcd3f493d7\":{\"roots\":{\"references\":[{\"attributes\":{\"plot\":{\"id\":\"e200b341-15c3-472b-8874-2cca1d3bc741\",\"subtype\":\"Figure\",\"type\":\"Plot\"}},\"id\":\"b92a1f87-37e5-4c9e-857b-01c4f0d6caf2\",\"type\":\"PanTool\"},{\"attributes\":{\"below\":[{\"id\":\"ebfecf26-f323-4c8b-afd5-2d57693f48b3\",\"type\":\"LinearAxis\"}],\"left\":[{\"id\":\"51fd344f-68d2-4bea-b24d-5326ea517605\",\"type\":\"LinearAxis\"}],\"renderers\":[{\"id\":\"ebfecf26-f323-4c8b-afd5-2d57693f48b3\",\"type\":\"LinearAxis\"},{\"id\":\"acd3c546-aa8f-4c41-bde3-80e0a8edf14a\",\"type\":\"Grid\"},{\"id\":\"51fd344f-68d2-4bea-b24d-5326ea517605\",\"type\":\"LinearAxis\"},{\"id\":\"e62dd9b1-9cdf-48b1-a9ef-c00d32e08900\",\"type\":\"Grid\"},{\"id\":\"b394459c-1f44-44aa-aa7a-700575e5470a\",\"type\":\"GlyphRenderer\"},{\"id\":\"349e6c06-3f01-463f-a0f1-1db501e1400e\",\"type\":\"LabelSet\"}],\"title\":{\"id\":\"0e06236a-e135-42d9-ad98-6130ee0786ae\",\"type\":\"Title\"},\"tool_events\":{\"id\":\"da56db4b-a33e-4b92-bde4-80d4277a54de\",\"type\":\"ToolEvents\"},\"toolbar\":{\"id\":\"c428b893-9280-4417-8f3d-9b9995efa30a\",\"type\":\"Toolbar\"},\"toolbar_location\":\"above\",\"x_range\":{\"id\":\"200fa011-797a-47fb-b40c-86322c4bc5f2\",\"type\":\"DataRange1d\"},\"y_range\":{\"id\":\"a8cbc5e3-ffb9-41d5-a029-f096b690d7dc\",\"type\":\"DataRange1d\"}},\"id\":\"e200b341-15c3-472b-8874-2cca1d3bc741\",\"subtype\":\"Figure\",\"type\":\"Plot\"},{\"attributes\":{\"plot\":{\"id\":\"e200b341-15c3-472b-8874-2cca1d3bc741\",\"subtype\":\"Figure\",\"type\":\"Plot\"}},\"id\":\"0c6b6e2f-4a32-4890-981f-683d3bcf2e0f\",\"type\":\"WheelZoomTool\"},{\"attributes\":{\"dimension\":1,\"plot\":{\"id\":\"e200b341-15c3-472b-8874-2cca1d3bc741\",\"subtype\":\"Figure\",\"type\":\"Plot\"},\"ticker\":{\"id\":\"0e0f140e-1473-4a47-bc83-c8ac08dfe7a9\",\"type\":\"BasicTicker\"}},\"id\":\"e62dd9b1-9cdf-48b1-a9ef-c00d32e08900\",\"type\":\"Grid\"},{\"attributes\":{\"formatter\":{\"id\":\"ab366295-c3eb-4a60-ad5d-2356e5745cf4\",\"type\":\"BasicTickFormatter\"},\"plot\":{\"id\":\"e200b341-15c3-472b-8874-2cca1d3bc741\",\"subtype\":\"Figure\",\"type\":\"Plot\"},\"ticker\":{\"id\":\"6bb76457-9b7b-4baa-a831-3b414cf6d833\",\"type\":\"BasicTicker\"}},\"id\":\"ebfecf26-f323-4c8b-afd5-2d57693f48b3\",\"type\":\"LinearAxis\"},{\"attributes\":{\"data_source\":{\"id\":\"e7ed662f-ca6c-49c4-ba7f-2d2fb9f218c8\",\"type\":\"ColumnDataSource\"},\"glyph\":{\"id\":\"e4bd6598-2fed-462a-9a4c-47341e0d559a\",\"type\":\"Circle\"},\"hover_glyph\":null,\"muted_glyph\":null,\"nonselection_glyph\":{\"id\":\"5e5810d8-b297-4960-a75e-c38220d380a3\",\"type\":\"Circle\"},\"selection_glyph\":null},\"id\":\"b394459c-1f44-44aa-aa7a-700575e5470a\",\"type\":\"GlyphRenderer\"},{\"attributes\":{\"fill_color\":{\"value\":\"#1f77b4\"},\"line_color\":{\"value\":\"#1f77b4\"},\"size\":{\"units\":\"screen\",\"value\":8},\"x\":{\"field\":\"x1\"},\"y\":{\"field\":\"x2\"}},\"id\":\"e4bd6598-2fed-462a-9a4c-47341e0d559a\",\"type\":\"Circle\"},{\"attributes\":{\"callback\":null},\"id\":\"200fa011-797a-47fb-b40c-86322c4bc5f2\",\"type\":\"DataRange1d\"},{\"attributes\":{\"formatter\":{\"id\":\"58ce073f-67ba-43e7-a327-3d0b797bd49a\",\"type\":\"BasicTickFormatter\"},\"plot\":{\"id\":\"e200b341-15c3-472b-8874-2cca1d3bc741\",\"subtype\":\"Figure\",\"type\":\"Plot\"},\"ticker\":{\"id\":\"0e0f140e-1473-4a47-bc83-c8ac08dfe7a9\",\"type\":\"BasicTicker\"}},\"id\":\"51fd344f-68d2-4bea-b24d-5326ea517605\",\"type\":\"LinearAxis\"},{\"attributes\":{\"plot\":{\"id\":\"e200b341-15c3-472b-8874-2cca1d3bc741\",\"subtype\":\"Figure\",\"type\":\"Plot\"},\"source\":{\"id\":\"e7ed662f-ca6c-49c4-ba7f-2d2fb9f218c8\",\"type\":\"ColumnDataSource\"},\"text\":{\"field\":\"names\"},\"text_align\":\"center\",\"text_color\":{\"value\":\"#555555\"},\"text_font_size\":{\"value\":\"8pt\"},\"x\":{\"field\":\"x1\"},\"y\":{\"field\":\"x2\"},\"y_offset\":{\"value\":6}},\"id\":\"349e6c06-3f01-463f-a0f1-1db501e1400e\",\"type\":\"LabelSet\"},{\"attributes\":{\"plot\":null,\"text\":\"word2vec T-SNE for most common words\"},\"id\":\"0e06236a-e135-42d9-ad98-6130ee0786ae\",\"type\":\"Title\"},{\"attributes\":{\"callback\":null},\"id\":\"a8cbc5e3-ffb9-41d5-a029-f096b690d7dc\",\"type\":\"DataRange1d\"},{\"attributes\":{\"plot\":{\"id\":\"e200b341-15c3-472b-8874-2cca1d3bc741\",\"subtype\":\"Figure\",\"type\":\"Plot\"}},\"id\":\"25a99050-2dd3-457e-9f8f-9b655b6d5147\",\"type\":\"ResetTool\"},{\"attributes\":{},\"id\":\"da56db4b-a33e-4b92-bde4-80d4277a54de\",\"type\":\"ToolEvents\"},{\"attributes\":{\"fill_alpha\":{\"value\":0.1},\"fill_color\":{\"value\":\"#1f77b4\"},\"line_alpha\":{\"value\":0.1},\"line_color\":{\"value\":\"#1f77b4\"},\"size\":{\"units\":\"screen\",\"value\":8},\"x\":{\"field\":\"x1\"},\"y\":{\"field\":\"x2\"}},\"id\":\"5e5810d8-b297-4960-a75e-c38220d380a3\",\"type\":\"Circle\"},{\"attributes\":{\"callback\":null,\"column_names\":[\"x1\",\"x2\",\"names\"],\"data\":{\"names\":[\"org\",\"intern\",\"ui\",\"core\",\"bug\",\"fix\",\"creat\",\"run\",\"test\",\"file\",\"descript\",\"swt\",\"build\",\"attach\",\"patch\",\"chang\",\"widget\",\"project\",\"detail\",\"problem\",\"work\",\"method\",\"code\",\"main\",\"class\",\"error\",\"displai\",\"line\",\"set\",\"updat\",\"workbench\",\"http\",\"plugin\",\"open\",\"view\",\"id\",\"report\",\"jdt\",\"type\",\"runtim\",\"sourc\",\"case\",\"verifi\",\"select\",\"editor\",\"add\",\"version\",\"jface\",\"look\",\"ad\",\"releas\",\"close\",\"action\",\"think\",\"window\",\"lang\",\"invok\",\"check\",\"string\",\"text\",\"featur\",\"properti\",\"resourc\",\"page\",\"model\",\"thank\",\"xml\",\"remov\",\"platform\",\"dialog\",\"start\",\"birt\",\"compil\",\"issu\",\"reproduc\",\"log\",\"list\",\"api\",\"reflect\",\"object\",\"jar\",\"messag\",\"return\",\"cdt\",\"current\",\"head\",\"valu\",\"debug\",\"gener\",\"sun\",\"data\",\"framework\",\"implement\",\"null\",\"tptp\",\"workspac\",\"result\",\"default\",\"try\",\"bundl\",\"launcher\",\"packag\",\"event\",\"contain\",\"equinox\",\"exampl\",\"commit\",\"help\",\"step\",\"tool\",\"import\",\"instal\",\"com\",\"osgi\",\"server\",\"target\",\"prefer\",\"content\",\"mark\",\"thread\",\"resolv\",\"execut\",\"click\",\"requir\",\"right\",\"util\",\"point\",\"caus\",\"access\",\"context\",\"configur\",\"servic\",\"emf\",\"option\",\"refer\",\"duplic\",\"element\",\"process\",\"path\",\"exist\",\"command\",\"know\",\"control\",\"int\",\"valid\",\"cv\",\"junit\",\"download\",\"wizard\",\"fail\",\"apach\",\"task\",\"sure\",\"eclipsestart\",\"extens\",\"viewer\",\"index\",\"button\",\"nativemethodaccessorimpl\",\"html\",\"launch\",\"appli\",\"item\",\"common\",\"darin\",\"link\",\"search\",\"pde\",\"menu\",\"depend\",\"entri\",\"call\",\"plug\",\"applic\",\"nativ\",\"happen\",\"avail\",\"defect\",\"base\",\"adaptor\",\"allow\",\"folder\",\"team\",\"inform\",\"expect\",\"document\",\"engin\",\"appear\",\"kei\",\"activ\",\"shell\",\"local\",\"miss\",\"handl\",\"field\",\"oper\",\"sendev\",\"wst\",\"locat\",\"correct\",\"job\",\"compon\",\"client\",\"repositori\",\"delet\",\"enhanc\",\"web\",\"review\",\"connect\",\"propos\",\"tabl\",\"enabl\",\"true\",\"dani\",\"rc\",\"doc\",\"map\",\"complet\",\"function\",\"number\",\"product\",\"filter\",\"void\",\"state\",\"src\",\"edit\",\"load\",\"win\",\"librari\",\"copi\",\"refactor\",\"occur\",\"abl\",\"custom\",\"initi\",\"tag\",\"perform\",\"request\",\"stack\",\"actioncontributionitem\",\"martin\",\"zip\",\"tab\",\"attribut\",\"www\",\"megert\",\"non\",\"variabl\",\"specif\",\"site\",\"eclipseapplaunch\",\"suggest\",\"imag\",\"warn\",\"mylyn\",\"defin\",\"move\",\"directori\",\"parser\",\"read\",\"label\",\"persist\",\"origin\",\"ant\",\"root\",\"contribut\",\"ibm\",\"eventt\",\"delegatingmethodaccessorimpl\",\"latest\",\"specifi\",\"nick\",\"home\",\"wait\",\"wtp\",\"order\",\"wright\",\"mean\",\"tree\",\"group\",\"trace\",\"synchron\",\"match\",\"php\",\"paramet\",\"reason\",\"sdk\",\"profil\",\"consid\",\"solut\",\"manag\",\"layout\",\"tri\",\"icon\",\"static\",\"addit\",\"queri\",\"modifi\",\"andrew\",\"impl\",\"url\",\"git\",\"size\",\"instanc\",\"pass\",\"bind\",\"place\",\"interfac\",\"column\",\"improv\",\"name\",\"wrong\",\"mode\",\"fine\",\"level\",\"relat\",\"format\",\"separ\",\"compar\",\"lib\",\"export\",\"cgi\",\"provid\",\"hyad\",\"behavior\",\"replac\",\"node\",\"extend\",\"chart\",\"bit\",\"perspect\",\"fals\",\"express\",\"templat\",\"disabl\",\"comment\",\"platformui\",\"navig\",\"npe\",\"drop\",\"createandrunworkbench\",\"gtk\",\"develop\",\"jst\",\"declar\",\"workbenchpag\",\"correctli\",\"refresh\",\"annot\",\"final\",\"builder\",\"present\",\"structuredview\",\"readanddispatch\",\"argument\",\"notic\",\"ideappl\",\"foo\",\"address\",\"wiki\",\"script\",\"javadoc\",\"diagram\",\"olivi\",\"boolean\",\"output\",\"switch\",\"nl\",\"hi\",\"classpath\",\"statu\",\"block\",\"monitor\",\"composit\",\"app\",\"listen\",\"space\",\"cach\",\"gmf\",\"browser\",\"init\",\"multipl\",\"config\",\"ws\",\"worker\",\"branch\",\"ecor\",\"breakpoint\",\"nullpointerexcept\",\"throw\",\"style\",\"dispos\",\"slauenwhit\",\"renam\",\"extern\",\"thomann\",\"handleev\",\"lock\",\"vm\",\"plan\",\"expand\",\"color\",\"press\",\"remot\",\"net\",\"bar\",\"stream\",\"left\",\"scenario\",\"explor\",\"enter\",\"date\",\"steffen\",\"reopen\",\"idea\",\"agre\",\"creation\",\"accept\",\"adapt\",\"clean\",\"definit\",\"runeventloop\",\"jre\",\"integr\",\"identifi\",\"ee\",\"design\",\"manifest\",\"investig\",\"actual\",\"believ\",\"support\",\"session\",\"dom\",\"post\",\"consol\",\"write\",\"parent\",\"invalid\",\"assum\",\"mainten\",\"ctrl\",\"charact\",\"progress\",\"pars\",\"regress\",\"break\",\"kim\",\"respons\",\"william\",\"schema\",\"visibl\",\"arthorn\",\"javac\",\"preview\",\"input\",\"ask\",\"discuss\",\"area\",\"tod\",\"font\",\"question\",\"servlet\",\"xsd\",\"fragment\",\"categori\",\"box\",\"sorri\",\"ecf\",\"environ\",\"previou\",\"memori\",\"indic\",\"understand\",\"basicrun\",\"lead\",\"screenshot\",\"modul\",\"sampl\",\"properli\",\"avoid\",\"ignor\",\"handler\",\"privat\",\"pingel\",\"share\",\"testcas\",\"chan\",\"jsp\",\"workaround\",\"section\",\"assist\",\"ast\",\"lot\",\"agent\",\"mention\",\"observ\",\"repo\",\"form\",\"effect\",\"store\",\"saferunn\",\"translat\",\"axi\",\"decor\",\"automat\",\"sort\",\"eugen\",\"revis\",\"turn\",\"guess\",\"metadata\",\"mileston\",\"assign\",\"flag\",\"header\",\"creasei\",\"overrid\",\"marker\",\"wang\",\"keller\",\"manual\",\"standard\",\"encod\",\"program\",\"jetti\",\"sai\",\"mik\",\"screen\",\"focu\",\"regard\",\"rule\",\"failur\",\"svn\",\"associ\",\"compat\",\"registri\",\"javax\",\"structur\",\"jpa\",\"assert\",\"thought\",\"titl\",\"sens\",\"busyind\",\"swanson\",\"insert\",\"approv\",\"differ\",\"track\",\"peopl\",\"abstracttreeview\",\"regist\",\"in\",\"render\",\"collect\",\"windowproc\",\"confirm\",\"nice\",\"uri\",\"hudson\",\"background\",\"finish\",\"binari\",\"quick\",\"proxi\",\"arrai\",\"introduc\",\"constant\",\"unit\",\"watson\",\"merg\",\"consist\",\"figur\",\"rcp\",\"artifact\",\"solv\",\"mac\",\"hit\",\"facet\",\"leav\",\"cancel\",\"normal\",\"statement\",\"convert\",\"modalcontext\",\"host\",\"gdb\",\"attempt\",\"driver\",\"outlin\",\"behaviour\",\"houseclean\",\"machin\",\"confus\",\"arg\",\"broken\",\"realm\",\"iter\",\"committ\",\"kersten\",\"eclipseapphandl\",\"pattern\",\"constructor\",\"histori\",\"affect\",\"basic\",\"publish\",\"philip\",\"describ\",\"bin\",\"typedlisten\",\"platformactiv\",\"rundeferredev\",\"row\",\"bad\",\"buildmanag\",\"jdk\",\"gef\",\"jeff\",\"catch\",\"restart\",\"catalina\",\"approach\",\"word\",\"posit\",\"aeschlimann\",\"startup\",\"oberhub\",\"mulet\",\"boldt\",\"classload\",\"length\",\"feel\",\"toolbar\",\"save\",\"valenta\",\"io\",\"runui\",\"tom\",\"relev\",\"scope\",\"uml\",\"dirk\",\"directli\",\"li\",\"languag\",\"viewcv\",\"workbenchkeyboard\",\"logic\",\"ajdt\",\"todai\",\"remain\",\"autom\",\"ensur\",\"brian\",\"deni\",\"increas\",\"snippet\",\"drag\",\"wassim\",\"member\",\"testsuit\",\"dj\",\"continu\",\"curti\",\"bori\",\"protect\",\"futur\",\"rse\",\"want\",\"scott\",\"port\",\"termin\",\"tell\",\"edgar\",\"releng\",\"dynam\",\"xp\",\"thrown\",\"cde\",\"loop\",\"jvm\",\"real\",\"equal\",\"webster\",\"mozilla\",\"eclipselink\",\"robert\",\"incorrect\",\"interest\",\"limit\",\"cdo\",\"extra\",\"boot\",\"invokeframework\",\"aspect\",\"sync\",\"record\",\"usr\",\"secur\",\"mylar\",\"tomcat\",\"submit\",\"hierarchi\",\"simon\",\"mechan\",\"lookup\",\"stuff\",\"appropri\",\"suit\",\"prioriti\",\"sever\",\"wizarddialog\",\"determin\",\"bootload\",\"push\",\"correspond\",\"rapicault\",\"detect\",\"db\",\"past\",\"internalplatform\",\"runasyncmessag\",\"reconcil\",\"remi\",\"hard\",\"baeumer\",\"condit\",\"eik\",\"wsdl\",\"scroll\",\"decid\",\"easi\",\"melhem\",\"databas\",\"except\",\"deprec\",\"xtext\",\"styledtext\",\"databind\",\"sound\",\"special\",\"chen\",\"jerom\",\"child\",\"trigger\",\"prevent\",\"width\",\"mccourt\",\"houghton\",\"runnabl\",\"archiv\",\"roi\",\"aniszczyk\",\"produc\",\"bundleload\",\"print\",\"ljava\",\"pw\",\"draw\",\"dsf\",\"verif\",\"crash\",\"auto\",\"println\",\"direct\",\"workbenchwindow\",\"unresolv\",\"referenc\",\"exactli\",\"evalu\",\"spec\",\"combo\",\"master\",\"topic\",\"entiti\",\"mous\",\"pack\",\"pretti\",\"cpp\",\"symbol\",\"ccv\",\"licens\",\"runnablelock\",\"arch\",\"ocl\",\"runappl\",\"built\",\"pawel\",\"qualifi\",\"cours\",\"unfortun\",\"hope\",\"hover\",\"receiv\",\"char\",\"factori\",\"pdf\",\"datatool\",\"children\",\"retriev\",\"cursor\",\"situat\",\"javascript\",\"namespac\",\"connector\",\"gc\",\"ca\",\"meta\",\"restor\",\"loader\",\"setup\",\"ex\",\"dll\",\"free\",\"renni\",\"openstrategi\",\"clone\",\"entir\",\"forc\",\"suen\",\"frame\",\"cc\",\"graphic\",\"moir\",\"ref\",\"comput\",\"highlight\",\"copyright\",\"explain\",\"coupl\",\"quot\",\"migrat\",\"administr\",\"focus\",\"css\",\"formatt\",\"on\",\"pick\",\"gui\",\"commun\",\"sql\",\"resolut\",\"dylib\",\"major\",\"xerc\",\"part\",\"usag\",\"minor\",\"big\",\"suppos\",\"inf\",\"popup\",\"conflict\",\"syntax\",\"northov\",\"talk\",\"mirror\",\"pm\",\"marc\",\"wrap\",\"editormanag\",\"tooltip\",\"coverag\",\"schedul\",\"resiz\",\"abstract\",\"dir\",\"cell\",\"super\",\"debugg\",\"delta\",\"altern\",\"ejb\",\"lee\",\"shift\",\"count\",\"egit\",\"articl\",\"account\",\"sequenc\",\"randi\",\"brows\",\"consum\",\"nest\",\"runwithev\",\"runner\",\"notifi\",\"adopt\",\"concern\",\"param\",\"fusier\",\"rang\",\"txt\",\"standardpipelin\",\"ian\",\"buckminst\",\"border\",\"rememb\",\"qualiti\",\"deploi\",\"byte\",\"jare\",\"pre\",\"capabl\",\"total\",\"integ\",\"testresult\",\"guid\",\"softwar\",\"notif\",\"descriptor\",\"potenti\",\"undo\",\"doug\",\"pop\",\"oda\",\"wonder\",\"care\",\"nitin\",\"hello\",\"htm\",\"discoveri\",\"msg\",\"sign\",\"maven\",\"showwhil\",\"password\",\"term\",\"grant\",\"global\",\"executor\",\"anymor\",\"iu\",\"adam\",\"ship\",\"ip\",\"tm\",\"iprogressmonitor\",\"analysi\",\"rel\",\"merk\",\"extract\",\"sub\",\"green\",\"btw\",\"exit\",\"subclass\",\"ear\",\"internalbootload\",\"cover\",\"deploy\",\"szymon\",\"feedback\",\"multi\",\"goe\",\"loadclass\",\"involv\",\"felip\",\"niefer\",\"jdbc\",\"author\",\"frank\",\"lanneluc\",\"easier\",\"bound\",\"proper\",\"gif\",\"var\",\"easili\",\"transform\",\"checkbox\",\"settext\",\"aggreg\",\"wm\",\"polici\",\"deleg\",\"deal\",\"nightli\",\"advanc\",\"optim\",\"protocol\",\"signatur\",\"email\",\"helio\",\"pmc\",\"bvt\",\"processor\",\"ssh\",\"modif\",\"hide\",\"revert\",\"texteditor\",\"utf\",\"append\",\"reset\",\"written\",\"tid\",\"glozic\"],\"x1\":{\"__ndarray__\":\"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\",\"dtype\":\"float64\",\"shape\":[1000]},\"x2\":{\"__ndarray__\":\"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\",\"dtype\":\"float64\",\"shape\":[1000]}}},\"id\":\"e7ed662f-ca6c-49c4-ba7f-2d2fb9f218c8\",\"type\":\"ColumnDataSource\"},{\"attributes\":{\"active_drag\":\"auto\",\"active_scroll\":\"auto\",\"active_tap\":\"auto\",\"tools\":[{\"id\":\"b92a1f87-37e5-4c9e-857b-01c4f0d6caf2\",\"type\":\"PanTool\"},{\"id\":\"0c6b6e2f-4a32-4890-981f-683d3bcf2e0f\",\"type\":\"WheelZoomTool\"},{\"id\":\"25a99050-2dd3-457e-9f8f-9b655b6d5147\",\"type\":\"ResetTool\"},{\"id\":\"574bb291-2621-433c-bf5b-0d4ba16e6a49\",\"type\":\"SaveTool\"}]},\"id\":\"c428b893-9280-4417-8f3d-9b9995efa30a\",\"type\":\"Toolbar\"},{\"attributes\":{},\"id\":\"6bb76457-9b7b-4baa-a831-3b414cf6d833\",\"type\":\"BasicTicker\"},{\"attributes\":{\"plot\":{\"id\":\"e200b341-15c3-472b-8874-2cca1d3bc741\",\"subtype\":\"Figure\",\"type\":\"Plot\"},\"ticker\":{\"id\":\"6bb76457-9b7b-4baa-a831-3b414cf6d833\",\"type\":\"BasicTicker\"}},\"id\":\"acd3c546-aa8f-4c41-bde3-80e0a8edf14a\",\"type\":\"Grid\"},{\"attributes\":{},\"id\":\"ab366295-c3eb-4a60-ad5d-2356e5745cf4\",\"type\":\"BasicTickFormatter\"},{\"attributes\":{},\"id\":\"0e0f140e-1473-4a47-bc83-c8ac08dfe7a9\",\"type\":\"BasicTicker\"},{\"attributes\":{},\"id\":\"58ce073f-67ba-43e7-a327-3d0b797bd49a\",\"type\":\"BasicTickFormatter\"},{\"attributes\":{\"plot\":{\"id\":\"e200b341-15c3-472b-8874-2cca1d3bc741\",\"subtype\":\"Figure\",\"type\":\"Plot\"}},\"id\":\"574bb291-2621-433c-bf5b-0d4ba16e6a49\",\"type\":\"SaveTool\"}],\"root_ids\":[\"e200b341-15c3-472b-8874-2cca1d3bc741\"]},\"title\":\"Bokeh Application\",\"version\":\"0.12.5\"}};\n",
       "            var render_items = [{\"docid\":\"c7530e25-c9b7-446c-8237-cefcd3f493d7\",\"elementid\":\"9051f99c-9d00-48de-a4fd-811e80c5fbed\",\"modelid\":\"e200b341-15c3-472b-8874-2cca1d3bc741\"}];\n",
       "            \n",
       "            Bokeh.embed.embed_items(docs_json, render_items);\n",
       "          };\n",
       "          if (document.readyState != \"loading\") fn();\n",
       "          else document.addEventListener(\"DOMContentLoaded\", fn);\n",
       "        })();\n",
       "      },\n",
       "      function(Bokeh) {\n",
       "      }\n",
       "    ];\n",
       "  \n",
       "    function run_inline_js() {\n",
       "      \n",
       "      if ((window.Bokeh !== undefined) || (force === true)) {\n",
       "        for (var i = 0; i < inline_js.length; i++) {\n",
       "          inline_js[i](window.Bokeh);\n",
       "        }if (force === true) {\n",
       "          display_loaded();\n",
       "        }} else if (Date.now() < window._bokeh_timeout) {\n",
       "        setTimeout(run_inline_js, 100);\n",
       "      } else if (!window._bokeh_failed_load) {\n",
       "        console.log(\"Bokeh: BokehJS failed to load within specified timeout.\");\n",
       "        window._bokeh_failed_load = true;\n",
       "      } else if (force !== true) {\n",
       "        var cell = $(document.getElementById(\"9051f99c-9d00-48de-a4fd-811e80c5fbed\")).parents('.cell').data().cell;\n",
       "        cell.output_area.append_execute_result(NB_LOAD_WARNING)\n",
       "      }\n",
       "  \n",
       "    }\n",
       "  \n",
       "    if (window._bokeh_is_loading === 0) {\n",
       "      console.log(\"Bokeh: BokehJS loaded, going straight to plotting\");\n",
       "      run_inline_js();\n",
       "    } else {\n",
       "      load_libs(js_urls, function() {\n",
       "        console.log(\"Bokeh: BokehJS plotting callback run at\", now());\n",
       "        run_inline_js();\n",
       "      });\n",
       "    }\n",
       "  }(this));\n",
       "</script>"
      ]
     },
     "metadata": {},
     "output_type": "display_data"
    }
   ],
   "source": [
    "p = figure(tools=\"pan,wheel_zoom,reset,save\",\n",
    "           toolbar_location=\"above\",\n",
    "           title=\"word2vec T-SNE for most common words\")\n",
    "\n",
    "source = ColumnDataSource(data=dict(x1=words_top_ted_tsne[:,0],\n",
    "                                    x2=words_top_ted_tsne[:,1],\n",
    "                                    names=words_top_ted))\n",
    "\n",
    "p.scatter(x=\"x1\", y=\"x2\", size=8, source=source)\n",
    "\n",
    "labels = LabelSet(x=\"x1\", y=\"x2\", text=\"names\", y_offset=6,\n",
    "                  text_font_size=\"8pt\", text_color=\"#555555\",\n",
    "                  source=source, text_align='center')\n",
    "p.add_layout(labels)\n",
    "\n",
    "show(p)"
   ]
  },
  {
   "cell_type": "code",
   "execution_count": 23,
   "metadata": {},
   "outputs": [],
   "source": [
    "model_ted.wv.save_word2vec_format(fname='eclipse.bin', fvocab='eclipse.vocab', binary=True)"
   ]
  },
  {
   "cell_type": "code",
   "execution_count": 24,
   "metadata": {
    "collapsed": true
   },
   "outputs": [],
   "source": [
    "model_ted.wv.save_word2vec_format(fname='eclipse.csv')"
   ]
  },
  {
   "cell_type": "code",
   "execution_count": null,
   "metadata": {
    "collapsed": true
   },
   "outputs": [],
   "source": []
  }
 ],
 "metadata": {
  "kernelspec": {
   "display_name": "Python 3",
   "language": "python",
   "name": "python3"
  },
  "language_info": {
   "codemirror_mode": {
    "name": "ipython",
    "version": 3
   },
   "file_extension": ".py",
   "mimetype": "text/x-python",
   "name": "python",
   "nbconvert_exporter": "python",
   "pygments_lexer": "ipython3",
   "version": "3.6.1"
  }
 },
 "nbformat": 4,
 "nbformat_minor": 2
}
