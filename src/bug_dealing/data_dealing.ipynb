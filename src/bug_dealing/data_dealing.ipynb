{
 "cells": [
  {
   "cell_type": "code",
   "execution_count": 1,
   "metadata": {
    "collapsed": true
   },
   "outputs": [],
   "source": [
    "#!/usr/lib/env python3\n",
    "# -*- code: utf-8 -*-\n",
    "\n",
    "import numpy as np\n",
    "import pandas as pd"
   ]
  },
  {
   "cell_type": "code",
   "execution_count": 2,
   "metadata": {},
   "outputs": [],
   "source": [
    "data_dir = \"../data/data_by_ocean/Eclipse_raw/\"\n",
    "bug_list_dir = \"buglist/\"\n",
    "bug_description_dir = \"description/\"\n",
    "bug_history_dir = \"bughistory_raw/\""
   ]
  },
  {
   "cell_type": "code",
   "execution_count": 3,
   "metadata": {},
   "outputs": [],
   "source": [
    "bug_list_record = pd.read_csv(data_dir+bug_list_dir+'bugs1.csv')"
   ]
  },
  {
   "cell_type": "code",
   "execution_count": 5,
   "metadata": {
    "collapsed": false
   },
   "outputs": [
    {
     "data": {
      "text/html": [
       "<div>\n",
       "<table border=\"1\" class=\"dataframe\">\n",
       "  <thead>\n",
       "    <tr style=\"text-align: right;\">\n",
       "      <th></th>\n",
       "      <th>Bug ID</th>\n",
       "      <th>Classification</th>\n",
       "      <th>Product</th>\n",
       "      <th>Component</th>\n",
       "      <th>Assignee</th>\n",
       "      <th>Status</th>\n",
       "      <th>Resolution</th>\n",
       "      <th>Number of Comments</th>\n",
       "      <th>Summary</th>\n",
       "    </tr>\n",
       "  </thead>\n",
       "  <tbody>\n",
       "    <tr>\n",
       "      <th>0</th>\n",
       "      <td>1</td>\n",
       "      <td>Eclipse</td>\n",
       "      <td>Platform</td>\n",
       "      <td>Team</td>\n",
       "      <td>James_Moody@ca.ibm.com</td>\n",
       "      <td>CLOSED</td>\n",
       "      <td>FIXED</td>\n",
       "      <td>14</td>\n",
       "      <td>Usability issue with external editors (1GE6IRL)</td>\n",
       "    </tr>\n",
       "    <tr>\n",
       "      <th>1</th>\n",
       "      <td>2</td>\n",
       "      <td>Eclipse</td>\n",
       "      <td>Platform</td>\n",
       "      <td>Team</td>\n",
       "      <td>James_Moody@ca.ibm.com</td>\n",
       "      <td>RESOLVED</td>\n",
       "      <td>FIXED</td>\n",
       "      <td>14</td>\n",
       "      <td>Opening repository resources doesn't honor typ...</td>\n",
       "    </tr>\n",
       "    <tr>\n",
       "      <th>2</th>\n",
       "      <td>3</td>\n",
       "      <td>Eclipse</td>\n",
       "      <td>Platform</td>\n",
       "      <td>Team</td>\n",
       "      <td>James_Moody@ca.ibm.com</td>\n",
       "      <td>RESOLVED</td>\n",
       "      <td>FIXED</td>\n",
       "      <td>5</td>\n",
       "      <td>Sync does not indicate deletion (1GIEN83)</td>\n",
       "    </tr>\n",
       "    <tr>\n",
       "      <th>3</th>\n",
       "      <td>4</td>\n",
       "      <td>Eclipse</td>\n",
       "      <td>Platform</td>\n",
       "      <td>Team</td>\n",
       "      <td>Michael_Valenta@ca.ibm.com</td>\n",
       "      <td>RESOLVED</td>\n",
       "      <td>FIXED</td>\n",
       "      <td>3</td>\n",
       "      <td>need better error message if catching up over ...</td>\n",
       "    </tr>\n",
       "    <tr>\n",
       "      <th>4</th>\n",
       "      <td>10</td>\n",
       "      <td>Eclipse</td>\n",
       "      <td>Platform</td>\n",
       "      <td>Team</td>\n",
       "      <td>jean-michel_lemieux@ca.ibm.com</td>\n",
       "      <td>VERIFIED</td>\n",
       "      <td>FIXED</td>\n",
       "      <td>6</td>\n",
       "      <td>API - VCM event notification (1G8G6RR)</td>\n",
       "    </tr>\n",
       "  </tbody>\n",
       "</table>\n",
       "</div>"
      ],
      "text/plain": [
       "<div>\n",
       "<table border=\"1\" class=\"dataframe\">\n",
       "  <thead>\n",
       "    <tr style=\"text-align: right;\">\n",
       "      <th></th>\n",
       "      <th>Bug ID</th>\n",
       "      <th>Classification</th>\n",
       "      <th>Product</th>\n",
       "      <th>Component</th>\n",
       "      <th>Assignee</th>\n",
       "      <th>Status</th>\n",
       "      <th>Resolution</th>\n",
       "      <th>Number of Comments</th>\n",
       "      <th>Summary</th>\n",
       "    </tr>\n",
       "  </thead>\n",
       "  <tbody>\n",
       "    <tr>\n",
       "      <th>0</th>\n",
       "      <td>1</td>\n",
       "      <td>Eclipse</td>\n",
       "      <td>Platform</td>\n",
       "      <td>Team</td>\n",
       "      <td>James_Moody@ca.ibm.com</td>\n",
       "      <td>CLOSED</td>\n",
       "      <td>FIXED</td>\n",
       "      <td>14</td>\n",
       "      <td>Usability issue with external editors (1GE6IRL)</td>\n",
       "    </tr>\n",
       "    <tr>\n",
       "      <th>1</th>\n",
       "      <td>2</td>\n",
       "      <td>Eclipse</td>\n",
       "      <td>Platform</td>\n",
       "      <td>Team</td>\n",
       "      <td>James_Moody@ca.ibm.com</td>\n",
       "      <td>RESOLVED</td>\n",
       "      <td>FIXED</td>\n",
       "      <td>14</td>\n",
       "      <td>Opening repository resources doesn't honor typ...</td>\n",
       "    </tr>\n",
       "    <tr>\n",
       "      <th>2</th>\n",
       "      <td>3</td>\n",
       "      <td>Eclipse</td>\n",
       "      <td>Platform</td>\n",
       "      <td>Team</td>\n",
       "      <td>James_Moody@ca.ibm.com</td>\n",
       "      <td>RESOLVED</td>\n",
       "      <td>FIXED</td>\n",
       "      <td>5</td>\n",
       "      <td>Sync does not indicate deletion (1GIEN83)</td>\n",
       "    </tr>\n",
       "    <tr>\n",
       "      <th>3</th>\n",
       "      <td>4</td>\n",
       "      <td>Eclipse</td>\n",
       "      <td>Platform</td>\n",
       "      <td>Team</td>\n",
       "      <td>Michael_Valenta@ca.ibm.com</td>\n",
       "      <td>RESOLVED</td>\n",
       "      <td>FIXED</td>\n",
       "      <td>3</td>\n",
       "      <td>need better error message if catching up over ...</td>\n",
       "    </tr>\n",
       "    <tr>\n",
       "      <th>4</th>\n",
       "      <td>10</td>\n",
       "      <td>Eclipse</td>\n",
       "      <td>Platform</td>\n",
       "      <td>Team</td>\n",
       "      <td>jean-michel_lemieux@ca.ibm.com</td>\n",
       "      <td>VERIFIED</td>\n",
       "      <td>FIXED</td>\n",
       "      <td>6</td>\n",
       "      <td>API - VCM event notification (1G8G6RR)</td>\n",
       "    </tr>\n",
       "  </tbody>\n",
       "</table>\n",
       "</div>"
      ]
     },
     "execution_count": 5,
     "metadata": {},
     "output_type": "execute_result"
    }
   ],
   "source": [
    "bug_list_record.head()"
   ]
  },
  {
   "cell_type": "code",
   "execution_count": 4,
   "metadata": {
    "collapsed": false
   },
   "outputs": [
    {
     "data": {
      "text/plain": [
       "'Usability issue with external editors (1GE6IRL) [reply] Description Andre Weinand 2001-10-10 21:34:46 EDT - Setup a project that contains a *.gif resource - release project to CVS - edit the *.gif resource with an external editor, e.g. PaintShop - save and close external editor - in Navigator open the icon resource and verify that your changes are there - release project -> nothing to release! - in Navigator open the icon resource and verify that your changes are still there  Problem: because I never \"Refreshed from local\", the workspace hasn\\'t changed so \"Release\" didn\\'t find anything. However opening the resource with an external editor found the modified file on disk and showed the changes.  The real problem occurs if \"Release\" actually finds something to release but you don\\'t spot that some resources are missing. This is extremely error prone: one of my changes didn\\'t made it into build 110 because of this!  NOTES: EG (5/23/01 3:00:33 PM) Release should do a refresh from local before doing the release. Moving to VCM   KM (05/27/01 5:10:19 PM) Comments from JM in related email:  Should not do this for free.  Could have a setting which made it optoinal but should nt be mandatory.  Default setting could be to have it on. Consider the SWT team who keep their workspaces on network drives.  This will be slow.  Side effects will be that a build runs when the refresh is completed unless you somehow do it in a workspace runnable and don\\'t end the runnable until after the release.  This would be less than optimal as some builders may be responsible for maintaining some invariants and deriving resources which are releasable.  If you don\\'t run the builders before releasing, the invariants will not be maintained and you will release inconsistent state.  Summary:  Offer to \"ensure local consistency\" before releasing.  KM (5/31/01 1:30:35 PM) See also 1GEAG1A: ITPVCM:WINNT - Internal error comparing with a document which failed with an error.  Never got log from Tod though.  [reply] Comment 1 James Moody 2001-10-19 10:32:10 EDT *** Bug 183 has been marked as a duplicate of this bug. ***  [reply] Comment 2 James Moody 2001-10-19 16:36:00 EDT Implemented \\'auto refresh\\' option. Default value is off.  [reply] Comment 3 DJ Houghton 2001-10-23 23:39:03 EDT PRODUCT VERSION: 109   [reply] Comment 4 James Moody 2001-10-25 10:19:43 EDT Fixed in v206  [reply] Comment 5 Boris Bokowski 2006-11-01 16:25:53 EST I looked at this because of the link in Ian\\'s blog (http://ianskerrett.wordpress.com/2006/11/01/looking-back-in-time-at-eclipse/).  Much to my surprise, I can still reproduce the original issue with Eclipse 3.2.1!  Why didn\\'t we turn auto-refresh on by default?  Does the SWT team still have their workspaces on network drives?  [reply] Comment 6 John Arthorne 2006-11-01 16:35:52 EST Yes, people still use network drives. In fact, since in 3.2 we now allow projects to be backed by arbitrary file systems via EFS, there are even more scenarios where refresh will be expensive.  Note also that James was referring to an \"auto-refresh\" option in the sync view. This was replaced with a global auto-refresh in the 3.0 release. This is still off by default, because as mentioned before, it can be expensive.  [reply] Comment 7 Boris Bokowski 2006-11-01 16:42:41 EST (In reply to comment #6) > This is still off by default, because as mentioned before, it can be expensive.  Couldn\\'t we turn it on by default now that we have jobs, and a place where jobs show up in the UI? If the refresh happened in a background job that was displayed in the status line, people would have a way to find out what\\'s going on and disable it if they don\\'t like it.  [reply] Comment 8 John Arthorne 2006-11-01 17:22:38 EST Boris: see bug 89672  [reply] Comment 9 Philippe Ombredanne 2006-11-09 14:03:39 EST Happy birthday bug 1, you are five years old, and still kicking :-D  [reply] Comment 10 John Arthorne 2006-11-09 14:17:41 EST Closing.  [reply] Comment 11 Eclipse Genie 2015-05-19 05:30:50 EDT New Gerrit change created: https://git.eclipse.org/r/48136  [reply] Comment 12 Eclipse Genie 2015-05-19 06:41:33 EDT Gerrit change https://git.eclipse.org/r/48136 was merged to [master]. Commit: http://git.eclipse.org/c/sirius/org.eclipse.sirius.git/commit/?id=980cf72c9ea237e5f896bc0cc74ec2b2dc05ccf5  [reply] Comment 13 Denis Roy 2015-05-19 09:47:26 EDT (In reply to Eclipse Genie from comment #11) > New Gerrit change created: https://git.eclipse.org/r/48136   I will fix her.  Add Comment  Collapse All Comments Expand All Comments'"
      ]
     },
     "execution_count": 4,
     "metadata": {},
     "output_type": "execute_result"
    }
   ],
   "source": [
    "with open('../data/data_by_ocean/Eclipse_raw/description/bugs1/1.txt', 'r', encoding='utf-8') as f:\n",
    "    bug_description_record = \" \".join([line.strip() for line in f.readlines()])\n",
    "bug_description_record"
   ]
  },
  {
   "cell_type": "code",
   "execution_count": 21,
   "metadata": {},
   "outputs": [],
   "source": [
    "bug_history_record = pd.read_csv(data_dir + bug_history_dir +'bugs1/1.csv' )"
   ]
  },
  {
   "cell_type": "code",
   "execution_count": 8,
   "metadata": {},
   "outputs": [],
   "source": [
    "bug = bug_list_record.values[0]"
   ]
  },
  {
   "cell_type": "code",
   "execution_count": 9,
   "metadata": {},
   "outputs": [
    {
     "data": {
      "text/plain": [
       "array([1, 'Eclipse', 'Platform', 'Team', 'James_Moody@ca.ibm.com',\n       'CLOSED', 'FIXED', 14,\n       'Usability issue with external editors (1GE6IRL)'], dtype=object)"
      ]
     },
     "execution_count": 9,
     "metadata": {},
     "output_type": "execute_result"
    }
   ],
   "source": [
    "bug"
   ]
  },
  {
   "cell_type": "code",
   "execution_count": 10,
   "metadata": {},
   "outputs": [],
   "source": [
    "bug[8]"
   ]
  },
  {
   "cell_type": "code",
   "execution_count": 22,
   "metadata": {
    "collapsed": true
   },
   "outputs": [
    {
     "name": "stderr",
     "output_type": "stream",
     "text": [
      "D:\\ProgramData\\Anaconda3\\envs\\tensorflow\\lib\\site-packages\\ipykernel_launcher.py:1: FutureWarning: sort(columns=....) is deprecated, use sort_values(by=.....)\n  \"\"\"Entry point for launching an IPython kernel.\n"
     ]
    },
    {
     "data": {
      "text/html": [
       "<div>\n",
       "<table border=\"1\" class=\"dataframe\">\n",
       "  <thead>\n",
       "    <tr style=\"text-align: right;\">\n",
       "      <th></th>\n",
       "      <th>When</th>\n",
       "      <th>Who</th>\n",
       "      <th>What</th>\n",
       "      <th>Added</th>\n",
       "      <th>Removed</th>\n",
       "    </tr>\n",
       "  </thead>\n",
       "  <tbody>\n",
       "    <tr>\n",
       "      <th>17</th>\n",
       "      <td>2015-05-19 06:41:33 EDT</td>\n",
       "      <td>genie@eclipse.org</td>\n",
       "      <td>See Also</td>\n",
       "      <td>https://git.eclipse.org/c/sirius/org.eclipse.s...</td>\n",
       "      <td>NaN</td>\n",
       "    </tr>\n",
       "    <tr>\n",
       "      <th>16</th>\n",
       "      <td>2015-05-19 05:30:50 EDT</td>\n",
       "      <td>genie@eclipse.org</td>\n",
       "      <td>See Also</td>\n",
       "      <td>https://git.eclipse.org/r/48136</td>\n",
       "      <td>NaN</td>\n",
       "    </tr>\n",
       "    <tr>\n",
       "      <th>15</th>\n",
       "      <td>2012-02-09 15:57:47 EST</td>\n",
       "      <td>milesparker@gmail.com</td>\n",
       "      <td>Depends on</td>\n",
       "      <td>NaN</td>\n",
       "      <td>371034</td>\n",
       "    </tr>\n",
       "    <tr>\n",
       "      <th>14</th>\n",
       "      <td>2012-02-09 13:17:24 EST</td>\n",
       "      <td>milesparker@gmail.com</td>\n",
       "      <td>Depends on</td>\n",
       "      <td>371034</td>\n",
       "      <td>NaN</td>\n",
       "    </tr>\n",
       "    <tr>\n",
       "      <th>13</th>\n",
       "      <td>2011-12-09 14:17:46 EST</td>\n",
       "      <td>denis.roy@eclipse.org</td>\n",
       "      <td>CC</td>\n",
       "      <td>denis.roy@eclipse.org</td>\n",
       "      <td>NaN</td>\n",
       "    </tr>\n",
       "    <tr>\n",
       "      <th>12</th>\n",
       "      <td>2011-07-20 05:52:58 EDT</td>\n",
       "      <td>manfredend@yahoo.com.cn</td>\n",
       "      <td>CC</td>\n",
       "      <td>manfredend@yahoo.com.cn</td>\n",
       "      <td>NaN</td>\n",
       "    </tr>\n",
       "    <tr>\n",
       "      <th>11</th>\n",
       "      <td>2010-07-08 01:01:19 EDT</td>\n",
       "      <td>hirujung@gmail.com</td>\n",
       "      <td>CC</td>\n",
       "      <td>hirujung@gmail.com</td>\n",
       "      <td>NaN</td>\n",
       "    </tr>\n",
       "    <tr>\n",
       "      <th>10</th>\n",
       "      <td>2008-07-03 16:01:52 EDT</td>\n",
       "      <td>bokowski@google.com</td>\n",
       "      <td>CC</td>\n",
       "      <td>mik.kersten@tasktop.com</td>\n",
       "      <td>NaN</td>\n",
       "    </tr>\n",
       "    <tr>\n",
       "      <th>9</th>\n",
       "      <td>2007-10-31 04:31:53 EDT</td>\n",
       "      <td>mauromol@tiscali.it</td>\n",
       "      <td>CC</td>\n",
       "      <td>mauromol@tiscali.it</td>\n",
       "      <td>NaN</td>\n",
       "    </tr>\n",
       "    <tr>\n",
       "      <th>8</th>\n",
       "      <td>2007-07-07 06:50:13 EDT</td>\n",
       "      <td>yagnesh@infoworldpune.com</td>\n",
       "      <td>CC</td>\n",
       "      <td>yagnesh@infoworldpune.com</td>\n",
       "      <td>NaN</td>\n",
       "    </tr>\n",
       "    <tr>\n",
       "      <th>7</th>\n",
       "      <td>2006-11-09 14:17:41 EST</td>\n",
       "      <td>john_arthorne@ca.ibm.com</td>\n",
       "      <td>Status</td>\n",
       "      <td>CLOSED</td>\n",
       "      <td>VERIFIED</td>\n",
       "    </tr>\n",
       "    <tr>\n",
       "      <th>6</th>\n",
       "      <td>2006-11-09 14:01:54 EST</td>\n",
       "      <td>pombredanne@nexb.com</td>\n",
       "      <td>CC</td>\n",
       "      <td>pombredanne@nexb.com</td>\n",
       "      <td>NaN</td>\n",
       "    </tr>\n",
       "    <tr>\n",
       "      <th>5</th>\n",
       "      <td>2006-11-01 16:35:52 EST</td>\n",
       "      <td>john_arthorne@ca.ibm.com</td>\n",
       "      <td>CC</td>\n",
       "      <td>john_arthorne@ca.ibm.com</td>\n",
       "      <td>NaN</td>\n",
       "    </tr>\n",
       "    <tr>\n",
       "      <th>4</th>\n",
       "      <td>2006-11-01 16:25:53 EST</td>\n",
       "      <td>bokowski@google.com</td>\n",
       "      <td>CC</td>\n",
       "      <td>Boris_Bokowski@ca.ibm.com</td>\n",
       "      <td>NaN</td>\n",
       "    </tr>\n",
       "    <tr>\n",
       "      <th>3</th>\n",
       "      <td>2001-10-25 10:40:50 EDT</td>\n",
       "      <td>James_Moody@ca.ibm.com</td>\n",
       "      <td>Status</td>\n",
       "      <td>VERIFIED</td>\n",
       "      <td>RESOLVED</td>\n",
       "    </tr>\n",
       "    <tr>\n",
       "      <th>1</th>\n",
       "      <td>2001-10-19 16:36:00 EDT</td>\n",
       "      <td>James_Moody@ca.ibm.com</td>\n",
       "      <td>Status</td>\n",
       "      <td>RESOLVED</td>\n",
       "      <td>ASSIGNED</td>\n",
       "    </tr>\n",
       "    <tr>\n",
       "      <th>2</th>\n",
       "      <td>2001-10-19 16:36:00 EDT</td>\n",
       "      <td>James_Moody@ca.ibm.com</td>\n",
       "      <td>Resolution</td>\n",
       "      <td>FIXED</td>\n",
       "      <td>---</td>\n",
       "    </tr>\n",
       "    <tr>\n",
       "      <th>0</th>\n",
       "      <td>2001-10-19 10:32:09 EDT</td>\n",
       "      <td>James_Moody@ca.ibm.com</td>\n",
       "      <td>CC</td>\n",
       "      <td>Kevin_McGuire@oti.com</td>\n",
       "      <td>NaN</td>\n",
       "    </tr>\n",
       "  </tbody>\n",
       "</table>\n",
       "</div>"
      ],
      "text/plain": [
       "<div>\n",
       "<table border=\"1\" class=\"dataframe\">\n",
       "  <thead>\n",
       "    <tr style=\"text-align: right;\">\n",
       "      <th></th>\n",
       "      <th>When</th>\n",
       "      <th>Who</th>\n",
       "      <th>What</th>\n",
       "      <th>Added</th>\n",
       "      <th>Removed</th>\n",
       "    </tr>\n",
       "  </thead>\n",
       "  <tbody>\n",
       "    <tr>\n",
       "      <th>17</th>\n",
       "      <td>2015-05-19 06:41:33 EDT</td>\n",
       "      <td>genie@eclipse.org</td>\n",
       "      <td>See Also</td>\n",
       "      <td>https://git.eclipse.org/c/sirius/org.eclipse.s...</td>\n",
       "      <td>NaN</td>\n",
       "    </tr>\n",
       "    <tr>\n",
       "      <th>16</th>\n",
       "      <td>2015-05-19 05:30:50 EDT</td>\n",
       "      <td>genie@eclipse.org</td>\n",
       "      <td>See Also</td>\n",
       "      <td>https://git.eclipse.org/r/48136</td>\n",
       "      <td>NaN</td>\n",
       "    </tr>\n",
       "    <tr>\n",
       "      <th>15</th>\n",
       "      <td>2012-02-09 15:57:47 EST</td>\n",
       "      <td>milesparker@gmail.com</td>\n",
       "      <td>Depends on</td>\n",
       "      <td>NaN</td>\n",
       "      <td>371034</td>\n",
       "    </tr>\n",
       "    <tr>\n",
       "      <th>14</th>\n",
       "      <td>2012-02-09 13:17:24 EST</td>\n",
       "      <td>milesparker@gmail.com</td>\n",
       "      <td>Depends on</td>\n",
       "      <td>371034</td>\n",
       "      <td>NaN</td>\n",
       "    </tr>\n",
       "    <tr>\n",
       "      <th>13</th>\n",
       "      <td>2011-12-09 14:17:46 EST</td>\n",
       "      <td>denis.roy@eclipse.org</td>\n",
       "      <td>CC</td>\n",
       "      <td>denis.roy@eclipse.org</td>\n",
       "      <td>NaN</td>\n",
       "    </tr>\n",
       "    <tr>\n",
       "      <th>12</th>\n",
       "      <td>2011-07-20 05:52:58 EDT</td>\n",
       "      <td>manfredend@yahoo.com.cn</td>\n",
       "      <td>CC</td>\n",
       "      <td>manfredend@yahoo.com.cn</td>\n",
       "      <td>NaN</td>\n",
       "    </tr>\n",
       "    <tr>\n",
       "      <th>11</th>\n",
       "      <td>2010-07-08 01:01:19 EDT</td>\n",
       "      <td>hirujung@gmail.com</td>\n",
       "      <td>CC</td>\n",
       "      <td>hirujung@gmail.com</td>\n",
       "      <td>NaN</td>\n",
       "    </tr>\n",
       "    <tr>\n",
       "      <th>10</th>\n",
       "      <td>2008-07-03 16:01:52 EDT</td>\n",
       "      <td>bokowski@google.com</td>\n",
       "      <td>CC</td>\n",
       "      <td>mik.kersten@tasktop.com</td>\n",
       "      <td>NaN</td>\n",
       "    </tr>\n",
       "    <tr>\n",
       "      <th>9</th>\n",
       "      <td>2007-10-31 04:31:53 EDT</td>\n",
       "      <td>mauromol@tiscali.it</td>\n",
       "      <td>CC</td>\n",
       "      <td>mauromol@tiscali.it</td>\n",
       "      <td>NaN</td>\n",
       "    </tr>\n",
       "    <tr>\n",
       "      <th>8</th>\n",
       "      <td>2007-07-07 06:50:13 EDT</td>\n",
       "      <td>yagnesh@infoworldpune.com</td>\n",
       "      <td>CC</td>\n",
       "      <td>yagnesh@infoworldpune.com</td>\n",
       "      <td>NaN</td>\n",
       "    </tr>\n",
       "    <tr>\n",
       "      <th>7</th>\n",
       "      <td>2006-11-09 14:17:41 EST</td>\n",
       "      <td>john_arthorne@ca.ibm.com</td>\n",
       "      <td>Status</td>\n",
       "      <td>CLOSED</td>\n",
       "      <td>VERIFIED</td>\n",
       "    </tr>\n",
       "    <tr>\n",
       "      <th>6</th>\n",
       "      <td>2006-11-09 14:01:54 EST</td>\n",
       "      <td>pombredanne@nexb.com</td>\n",
       "      <td>CC</td>\n",
       "      <td>pombredanne@nexb.com</td>\n",
       "      <td>NaN</td>\n",
       "    </tr>\n",
       "    <tr>\n",
       "      <th>5</th>\n",
       "      <td>2006-11-01 16:35:52 EST</td>\n",
       "      <td>john_arthorne@ca.ibm.com</td>\n",
       "      <td>CC</td>\n",
       "      <td>john_arthorne@ca.ibm.com</td>\n",
       "      <td>NaN</td>\n",
       "    </tr>\n",
       "    <tr>\n",
       "      <th>4</th>\n",
       "      <td>2006-11-01 16:25:53 EST</td>\n",
       "      <td>bokowski@google.com</td>\n",
       "      <td>CC</td>\n",
       "      <td>Boris_Bokowski@ca.ibm.com</td>\n",
       "      <td>NaN</td>\n",
       "    </tr>\n",
       "    <tr>\n",
       "      <th>3</th>\n",
       "      <td>2001-10-25 10:40:50 EDT</td>\n",
       "      <td>James_Moody@ca.ibm.com</td>\n",
       "      <td>Status</td>\n",
       "      <td>VERIFIED</td>\n",
       "      <td>RESOLVED</td>\n",
       "    </tr>\n",
       "    <tr>\n",
       "      <th>1</th>\n",
       "      <td>2001-10-19 16:36:00 EDT</td>\n",
       "      <td>James_Moody@ca.ibm.com</td>\n",
       "      <td>Status</td>\n",
       "      <td>RESOLVED</td>\n",
       "      <td>ASSIGNED</td>\n",
       "    </tr>\n",
       "    <tr>\n",
       "      <th>2</th>\n",
       "      <td>2001-10-19 16:36:00 EDT</td>\n",
       "      <td>James_Moody@ca.ibm.com</td>\n",
       "      <td>Resolution</td>\n",
       "      <td>FIXED</td>\n",
       "      <td>---</td>\n",
       "    </tr>\n",
       "    <tr>\n",
       "      <th>0</th>\n",
       "      <td>2001-10-19 10:32:09 EDT</td>\n",
       "      <td>James_Moody@ca.ibm.com</td>\n",
       "      <td>CC</td>\n",
       "      <td>Kevin_McGuire@oti.com</td>\n",
       "      <td>NaN</td>\n",
       "    </tr>\n",
       "  </tbody>\n",
       "</table>\n",
       "</div>"
      ]
     },
     "execution_count": 22,
     "metadata": {},
     "output_type": "execute_result"
    }
   ],
   "source": [
    "bug_history = bug_history_record.sort(['When'], ascending=False)\n",
    "bug_history"
   ]
  },
  {
   "cell_type": "code",
   "execution_count": 28,
   "metadata": {
    "collapsed": false
   },
   "outputs": [],
   "source": [
    "bug_history_record = bug_history[(bug_history[' Added'] == 'FIXED') & (bug_history[' What'] == 'Resolution')]"
   ]
  },
  {
   "cell_type": "code",
   "execution_count": 55,
   "metadata": {},
   "outputs": [],
   "source": [
    "line = bug_history_record['When'].values[0] + ',' + str(bug[0]) + ',' + str(bug[8]) + ',' + bug_description_record + ',' + \\\n",
    "                   bug_history_record[' Added'].values[0]"
   ]
  },
  {
   "cell_type": "code",
   "execution_count": 57,
   "metadata": {
    "collapsed": false
   },
   "outputs": [
    {
     "data": {
      "text/plain": [
       "'FIXED'"
      ]
     },
     "execution_count": 57,
     "metadata": {},
     "output_type": "execute_result"
    }
   ],
   "source": [
    "bug_history_record[' Added'].values[0]"
   ]
  },
  {
   "cell_type": "markdown",
   "metadata": {},
   "source": [
    ""
   ]
  },
  {
   "cell_type": "code",
   "execution_count": 4,
   "metadata": {},
   "outputs": [],
   "source": [
    "bug_raw = pd.read_csv(data_dir+'raw/bug_raw.csv', sep='@@,,@@', engine='python', parse_dates=True, encoding='latin-1')"
   ]
  },
  {
   "cell_type": "code",
   "execution_count": 5,
   "metadata": {},
   "outputs": [],
   "source": [
    "bug_sorted_raw = bug_raw.sort_values('when')"
   ]
  },
  {
   "cell_type": "code",
   "execution_count": 14,
   "metadata": {},
   "outputs": [],
   "source": [
    "bug_sorted_raw.to_csv(data_dir + 'raw/sorted_summary_description.csv', columns=['description', 'summary'], header=False, index=False)"
   ]
  },
  {
   "cell_type": "code",
   "execution_count": 17,
   "metadata": {},
   "outputs": [],
   "source": [
    "bug_sorted_raw.to_csv(data_dir + 'raw/sorted_bug_id_date_who.csv', columns=['when', 'bug_id', 'who'], index=False)"
   ]
  },
  {
   "cell_type": "code",
   "execution_count": 26,
   "metadata": {
    "collapsed": false
   },
   "outputs": [
    {
     "data": {
      "text/plain": [
       "(18179, 5)"
      ]
     },
     "execution_count": 26,
     "metadata": {},
     "output_type": "execute_result"
    }
   ],
   "source": [
    "bug_sorted_raw.iloc[:18179, :].shape"
   ]
  },
  {
   "cell_type": "code",
   "execution_count": 27,
   "metadata": {},
   "outputs": [
    {
     "name": "stdout",
     "output_type": "stream",
     "text": [
      "0 18179 18179\n(18179, 5)\n"
     ]
    },
    {
     "name": "stdout",
     "output_type": "stream",
     "text": [
      "18179 36358 18179\n(18179, 5)\n"
     ]
    },
    {
     "name": "stdout",
     "output_type": "stream",
     "text": [
      "36358 54537 18179\n(18179, 5)\n"
     ]
    },
    {
     "name": "stdout",
     "output_type": "stream",
     "text": [
      "54537 72716 18179\n(18179, 5)\n"
     ]
    },
    {
     "name": "stdout",
     "output_type": "stream",
     "text": [
      "72716 90895 18179\n(18179, 5)\n"
     ]
    },
    {
     "name": "stdout",
     "output_type": "stream",
     "text": [
      "90895 109074 18179\n(18179, 5)\n"
     ]
    },
    {
     "name": "stdout",
     "output_type": "stream",
     "text": [
      "109074 127253 18179\n(18179, 5)\n"
     ]
    },
    {
     "name": "stdout",
     "output_type": "stream",
     "text": [
      "127253 145432 18179\n(18179, 5)\n"
     ]
    },
    {
     "name": "stdout",
     "output_type": "stream",
     "text": [
      "145432 163611 18179\n(18179, 5)\n"
     ]
    },
    {
     "name": "stdout",
     "output_type": "stream",
     "text": [
      "163611 181790 18179\n(18179, 5)\n"
     ]
    },
    {
     "name": "stdout",
     "output_type": "stream",
     "text": [
      "181790 199959 18169\n(18169, 5)\n"
     ]
    }
   ],
   "source": [
    "bug_len = len(bug_sorted_raw)\n",
    "bug_part_size = int((bug_len-1)/11) + 1\n",
    "for i in range(11):\n",
    "    begin_index = i * bug_part_size\n",
    "    end_index = min((i+1)*bug_part_size, bug_len-1)\n",
    "    bug_parted = bug_sorted_raw.iloc[begin_index:end_index]\n",
    "    bug_parted.to_csv(data_dir + 'raw/'+str(i)+'_summary_description.csv', columns=['description', 'summary'], header=False, index=False)\n",
    "    bug_parted.to_csv(data_dir + 'raw/'+str(i)+'_bug_id_date_who.csv', columns=['when', 'bug_id', 'who'], index=False)"
   ]
  },
  {
   "cell_type": "code",
   "execution_count": 36,
   "metadata": {},
   "outputs": [],
   "source": [
    "# 此方法做旧，因为数据处理不均衡，故而放弃\n",
    "begin = 2001\n",
    "end = 2016\n",
    "for year in range(begin, end):\n",
    "    condition = (bug_sorted_raw.when > str(year)) & (bug_sorted_raw.when < str(year+1))\n",
    "    bug_sorted_condition_raw = bug_sorted_raw[condition]\n",
    "    bug_sorted_condition_raw.to_csv(data_dir + 'raw/' + str(year) + '_summary_description.csv'.format(year), \n",
    "                                    columns=['description', 'summary'], header=False, index=False)\n",
    "    bug_sorted_condition_raw.to_csv(data_dir + 'raw/' + str(year) + '_bug_id_date_who.csv'.format(year),\n",
    "                                    columns=['when', 'bug_id', 'who'], index=False)"
   ]
  },
  {
   "cell_type": "code",
   "execution_count": null,
   "metadata": {},
   "outputs": [],
   "source": [
    ""
   ]
  }
 ],
 "metadata": {
  "kernelspec": {
   "display_name": "Python 2",
   "language": "python",
   "name": "python2"
  },
  "language_info": {
   "codemirror_mode": {
    "name": "ipython",
    "version": 2.0
   },
   "file_extension": ".py",
   "mimetype": "text/x-python",
   "name": "python",
   "nbconvert_exporter": "python",
   "pygments_lexer": "ipython2",
   "version": "2.7.6"
  }
 },
 "nbformat": 4,
 "nbformat_minor": 0
}